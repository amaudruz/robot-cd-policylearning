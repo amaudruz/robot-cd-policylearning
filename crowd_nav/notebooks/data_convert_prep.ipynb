{
 "cells": [
  {
   "cell_type": "markdown",
   "metadata": {},
   "source": [
    "## Normal"
   ]
  },
  {
   "cell_type": "code",
   "execution_count": 1,
   "metadata": {},
   "outputs": [],
   "source": [
    "import torch\n",
    "import sys \n",
    "sys.path.append('/home/louis/Documents/Master_project/social-nce/')\n",
    "import os\n",
    "from torch.utils.data.dataloader import DataLoader\n",
    "import numpy as np\n",
    "import pickle\n",
    "from crowd_nav.utils.dataset import ImitDataset, ImitDatasetTraj\n",
    "from crowd_nav.policy.sail_traj import ExtendedNetworkTraj\n",
    "from crowd_nav.policy.policy_factory import policy_factory\n",
    "import configparser\n",
    "import gym\n",
    "import sys\n",
    "sys.path.append('..')\n",
    "from crowd_sim.envs.utils.robot import Robot\n",
    "from crowd_sim.envs.crowd_sim import CrowdSim\n",
    "from crowd_nav.utils.explorer import ExplorerDs"
   ]
  },
  {
   "cell_type": "code",
   "execution_count": 2,
   "metadata": {
    "scrolled": true
   },
   "outputs": [],
   "source": [
    "data = torch.load('data/demonstrate/aggressive/data_imit.pt')"
   ]
  },
  {
   "cell_type": "code",
   "execution_count": 3,
   "metadata": {},
   "outputs": [
    {
     "data": {
      "text/plain": [
       "(torch.Tensor, torch.Size([109271, 5, 4]), torch.Size([109271, 6]))"
      ]
     },
     "execution_count": 3,
     "metadata": {},
     "output_type": "execute_result"
    }
   ],
   "source": [
    "type(data[1]), data[1].shape, data[0].shape"
   ]
  },
  {
   "cell_type": "code",
   "execution_count": 5,
   "metadata": {},
   "outputs": [],
   "source": [
    "human_pos_per_ep = []\n",
    "prev_val = data[3][0].item()\n",
    "ep_pos = []\n",
    "for i in range(len(data[0])) :\n",
    "    hum_pos, val = data[1][i], data[3][i]\n",
    "    if abs(val.item()-prev_val) > 1e-1 :\n",
    "        human_pos_per_ep.append(ep_pos)\n",
    "        ep_pos=[]\n",
    "    ep_pos.append(hum_pos)\n",
    "    prev_val = val\n",
    "    if i==len(data[0])-1 :\n",
    "        human_pos_per_ep.append(ep_pos)"
   ]
  },
  {
   "cell_type": "code",
   "execution_count": 6,
   "metadata": {},
   "outputs": [],
   "source": [
    "obs_memory = 10\n",
    "human_positions_mem = []\n",
    "for episode in human_pos_per_ep :\n",
    "    episode_start = True\n",
    "    for human_positions in episode :\n",
    "        if episode_start :\n",
    "            episode_start = False \n",
    "            human_pos_stack = [human_positions] * obs_memory\n",
    "        else :\n",
    "            human_pos_stack.append(human_positions)\n",
    "            human_pos_stack = human_pos_stack[1:]\n",
    "        human_positions_mem.append(torch.stack(human_pos_stack))"
   ]
  },
  {
   "cell_type": "code",
   "execution_count": 7,
   "metadata": {},
   "outputs": [],
   "source": [
    "human_positions_mem = torch.stack(human_positions_mem)"
   ]
  },
  {
   "cell_type": "code",
   "execution_count": 8,
   "metadata": {
    "scrolled": true
   },
   "outputs": [
    {
     "data": {
      "text/plain": [
       "torch.Size([109271, 10, 5, 4])"
      ]
     },
     "execution_count": 8,
     "metadata": {},
     "output_type": "execute_result"
    }
   ],
   "source": [
    "human_positions_mem.shape"
   ]
  },
  {
   "cell_type": "code",
   "execution_count": 9,
   "metadata": {},
   "outputs": [],
   "source": [
    "data_obs = [data[0], human_positions_mem, data[2], data[3]]"
   ]
  },
  {
   "cell_type": "code",
   "execution_count": 10,
   "metadata": {},
   "outputs": [],
   "source": [
    "torch.save(data_obs, 'data/demonstrate/aggressive/data_imit_mem.pt')"
   ]
  },
  {
   "cell_type": "code",
   "execution_count": 13,
   "metadata": {},
   "outputs": [
    {
     "name": "stdout",
     "output_type": "stream",
     "text": [
      "['james', 'charle']\n"
     ]
    }
   ],
   "source": [
    "a = ['james', 'charle']\n",
    "print('{}'.format(a))"
   ]
  },
  {
   "cell_type": "code",
   "execution_count": 14,
   "metadata": {},
   "outputs": [
    {
     "ename": "AttributeError",
     "evalue": "'list' object has no attribute 'shape'",
     "output_type": "error",
     "traceback": [
      "\u001b[0;31m---------------------------------------------------------------------------\u001b[0m",
      "\u001b[0;31mAttributeError\u001b[0m                            Traceback (most recent call last)",
      "\u001b[0;32m<ipython-input-14-275b49c92384>\u001b[0m in \u001b[0;36m<module>\u001b[0;34m\u001b[0m\n\u001b[0;32m----> 1\u001b[0;31m \u001b[0mdata_obs\u001b[0m\u001b[0;34m.\u001b[0m\u001b[0mshape\u001b[0m\u001b[0;34m\u001b[0m\u001b[0;34m\u001b[0m\u001b[0m\n\u001b[0m",
      "\u001b[0;31mAttributeError\u001b[0m: 'list' object has no attribute 'shape'"
     ]
    }
   ],
   "source": [
    "nn.Mo"
   ]
  },
  {
   "cell_type": "markdown",
   "metadata": {},
   "source": [
    "## Triple"
   ]
  },
  {
   "cell_type": "code",
   "execution_count": 1,
   "metadata": {},
   "outputs": [],
   "source": [
    "import torch\n",
    "import sys \n",
    "sys.path.append('..')\n",
    "import os\n",
    "from torch.utils.data.dataloader import DataLoader\n",
    "import numpy as np\n",
    "import torch"
   ]
  },
  {
   "cell_type": "code",
   "execution_count": 2,
   "metadata": {},
   "outputs": [],
   "source": [
    "data_normal = torch.load('data/demonstrate/data_imit.pt')\n",
    "data_aggressive = torch.load('utils/data/memory/temp/aggressive/data_imit_invisible.pt')\n"
   ]
  },
  {
   "cell_type": "code",
   "execution_count": 3,
   "metadata": {},
   "outputs": [
    {
     "data": {
      "text/plain": [
       "109271"
      ]
     },
     "execution_count": 3,
     "metadata": {},
     "output_type": "execute_result"
    }
   ],
   "source": [
    "len(data_aggressive)"
   ]
  },
  {
   "cell_type": "code",
   "execution_count": 8,
   "metadata": {},
   "outputs": [
    {
     "data": {
      "text/plain": [
       "4"
      ]
     },
     "execution_count": 8,
     "metadata": {},
     "output_type": "execute_result"
    }
   ],
   "source": [
    "len(data_normal)"
   ]
  },
  {
   "cell_type": "code",
   "execution_count": 7,
   "metadata": {},
   "outputs": [
    {
     "data": {
      "text/plain": [
       "torch.Size([6])"
      ]
     },
     "execution_count": 7,
     "metadata": {},
     "output_type": "execute_result"
    }
   ],
   "source": [
    "data_aggressive[0][0][0].shape"
   ]
  },
  {
   "cell_type": "code",
   "execution_count": 17,
   "metadata": {},
   "outputs": [
    {
     "data": {
      "text/plain": [
       "13"
      ]
     },
     "execution_count": 17,
     "metadata": {},
     "output_type": "execute_result"
    }
   ],
   "source": [
    "len(data_aggressive[0][0])"
   ]
  },
  {
   "cell_type": "code",
   "execution_count": 22,
   "metadata": {},
   "outputs": [
    {
     "data": {
      "text/plain": [
       "(tensor([[ 7.6927,  1.0000,  0.0000,  0.3000,  0.2773,  0.9608,  2.1412,  2.0438,\n",
       "           0.5350, -0.8449,  0.3000,  2.9601,  0.6000],\n",
       "         [ 7.6927,  1.0000,  0.0000,  0.3000,  0.2773,  0.9608,  6.1282,  1.4914,\n",
       "          -0.7795, -0.6265,  0.3000,  6.3071,  0.6000],\n",
       "         [ 7.6927,  1.0000,  0.0000,  0.3000,  0.2773,  0.9608,  5.9993, -1.4690,\n",
       "          -0.9125,  0.4091,  0.3000,  6.1765,  0.6000],\n",
       "         [ 7.6927,  1.0000,  0.0000,  0.3000,  0.2773,  0.9608,  1.7744, -2.7891,\n",
       "           0.6384,  0.7697,  0.3000,  3.3057,  0.6000],\n",
       "         [ 7.6927,  1.0000,  0.0000,  0.3000,  0.2773,  0.9608,  3.4091,  2.6102,\n",
       "           0.1004, -0.9949,  0.3000,  4.2936,  0.6000]]),\n",
       " tensor([-0.7071,  0.7071]),\n",
       " tensor([0.3308]))"
      ]
     },
     "execution_count": 22,
     "metadata": {},
     "output_type": "execute_result"
    }
   ],
   "source": [
    "data_aggressive[4]"
   ]
  },
  {
   "cell_type": "code",
   "execution_count": null,
   "metadata": {},
   "outputs": [],
   "source": []
  }
 ],
 "metadata": {
  "kernelspec": {
   "display_name": "Python 3",
   "language": "python",
   "name": "python3"
  },
  "language_info": {
   "codemirror_mode": {
    "name": "ipython",
    "version": 3
   },
   "file_extension": ".py",
   "mimetype": "text/x-python",
   "name": "python",
   "nbconvert_exporter": "python",
   "pygments_lexer": "ipython3",
   "version": "3.7.2"
  },
  "toc": {
   "base_numbering": 1,
   "nav_menu": {},
   "number_sections": true,
   "sideBar": true,
   "skip_h1_title": false,
   "title_cell": "Table of Contents",
   "title_sidebar": "Contents",
   "toc_cell": false,
   "toc_position": {},
   "toc_section_display": true,
   "toc_window_display": false
  }
 },
 "nbformat": 4,
 "nbformat_minor": 2
}
